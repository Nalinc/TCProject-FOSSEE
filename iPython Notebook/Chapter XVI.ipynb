{
 "metadata": {
  "name": "Chapter XVI"
 },
 "nbformat": 3,
 "nbformat_minor": 0,
 "worksheets": [
  {
   "cells": [
    {
     "cell_type": "heading",
     "level": 1,
     "metadata": {},
     "source": [
      "Chapter 16: Input and Output Operations in Python"
     ]
    },
    {
     "cell_type": "heading",
     "level": 3,
     "metadata": {},
     "source": [
      "Program 16.1, Page number: 350"
     ]
    },
    {
     "cell_type": "code",
     "collapsed": false,
     "input": [
      "#16.1.py\n",
      "#Illustrating print function\n",
      "\n",
      "#Main()\n",
      "def main():\n",
      "\n",
      "        #Variable Declaration\n",
      "        c='X'\n",
      "        s=\"abcdefghijklmnopqrstuvwxyz\"\n",
      "        i=425\n",
      "        j=17\n",
      "        u=0xf179\n",
      "        l=75000\n",
      "        L=0x1234567812345678\n",
      "        f=12.978\n",
      "        d=-97.4583\n",
      "        cp=c\n",
      "        ip=i\n",
      "        \n",
      "\n",
      "        #Print Integers\n",
      "        print(\"Integers:\\n\")\n",
      "        print(\"%i %o %x %u\" %(i,i,i,i))\n",
      "        print(\"%x %X %#x %#X\" %(i,i,i,i))\n",
      "        print(\"%+i % i %07i %.7i\" %(i,i,i, i))\n",
      "        print(\"%i %o %x %u\" %(j,j,j,j))\n",
      "        print(\"%i %o %x %u\" %(u,u,u,u))\n",
      "        print(\"%ld %lo %lx %lu\" %(l,l,l,l))\n",
      "        print(\"%li %lo %lx %lu\" %(L,L,L, L))\n",
      "\n",
      "        #Print Floats & Doubles\n",
      "        print(\"\\nFloats and Doubles:\")\n",
      "        print(\"%f %e %g\"%( f, f, f))\n",
      "        print(\"%.2f %.2e\"%( f, f))\n",
      "        print(\"%.0f %.0e\"%( f, f))\n",
      "        print(\"%7.2f %7.2e\"%( f, f))\n",
      "        print(\"%f %e %g\"%( d, d, d))\n",
      "        print(\"%.*f\"%( 3, d))\n",
      "        print(\"%*.*f\" %(8, 2, d))\n",
      "\n",
      "        #Print Characters\n",
      "        print(\"\\nCharacters:\")\n",
      "        print(\"%c\"%(c))\n",
      "        print(\"%3c%3c\"%( c, c))\n",
      "        print(\"{0:x} \".format(ord(c))) \n",
      "\n",
      "        #Print Strings\n",
      "        print(\"\\nStrings:\")\n",
      "        print(\"%s\"%(s))\n",
      "        print(\"%.5s\"%(s))\n",
      "        print(\"%30s\"%(s))\n",
      "        print(\"%20.5s\"%(s))\n",
      "        print(\"%-20.5s\"%(s))\n",
      "\n",
      "        #Print variables pointers\n",
      "        print(\"\\nPointers:\")\n",
      "        print(\"{0:x} {1:x}\\n\".format(int(ip),ord(cp)))\n",
      "\n",
      "        print(\"This%n is fun.\")\n",
      "        print(\"c1 = %i, c2 = %i\\n\"%(4, 12))\n",
      "\n",
      "\n",
      "#Setting top level conditional script\n",
      "if __name__=='__main__':\n",
      "        main()\n",
      "\n"
     ],
     "language": "python",
     "metadata": {},
     "outputs": [
      {
       "output_type": "stream",
       "stream": "stdout",
       "text": [
        "Integers:\n",
        "\n",
        "425 651 1a9 425\n",
        "1a9 1A9 0x1a9 0X1A9\n",
        "+425  425 0000425 0000425\n",
        "17 21 11 17\n",
        "61817 170571 f179 61817\n",
        "75000 222370 124f8 75000\n",
        "1311768465173141112 110642547402215053170 1234567812345678 1311768465173141112\n",
        "\n",
        "Floats and Doubles:\n",
        "12.978000 1.297800e+01 12.978\n",
        "12.98 1.30e+01\n",
        "13 1e+01\n",
        "  12.98 1.30e+01\n",
        "-97.458300 -9.745830e+01 -97.4583\n",
        "-97.458\n",
        "  -97.46\n",
        "\n",
        "Characters:\n",
        "X\n",
        "  X  X\n",
        "58 \n",
        "\n",
        "Strings:\n",
        "abcdefghijklmnopqrstuvwxyz\n",
        "abcde\n",
        "    abcdefghijklmnopqrstuvwxyz\n",
        "               abcde\n",
        "abcde               \n",
        "\n",
        "Pointers:\n",
        "1a9 58\n",
        "\n",
        "This%n is fun.\n",
        "c1 = 4, c2 = 12\n",
        "\n"
       ]
      }
     ],
     "prompt_number": 8
    },
    {
     "cell_type": "heading",
     "level": 3,
     "metadata": {},
     "source": [
      "Program 16.2, Page number: 362"
     ]
    },
    {
     "cell_type": "code",
     "collapsed": false,
     "input": [
      "#16.2.py\n",
      "#Copying Characters from Standard Input to Standard Output\n",
      "\n",
      "#Import system library\n",
      "import sys\n",
      "\n",
      "#Main()\n",
      "def main():\n",
      "        \n",
      "        while (True):\n",
      "                #c=raw_input()              #User Input\n",
      "                c=\"this is a sample text\"   #Dummy text\n",
      "                print(c);         #Display Result\n",
      "                \n",
      "                #Un-comment this while executing from terminal/command line\n",
      "                #if(c==\"EOF\"):     #Check Exit condition\n",
      "                sys.exit()\n",
      "        \n",
      "\n",
      "#Setting top level conditional script\n",
      "if __name__=='__main__':\n",
      "        main()\n",
      "\n"
     ],
     "language": "python",
     "metadata": {},
     "outputs": [
      {
       "ename": "SystemExit",
       "evalue": "",
       "output_type": "pyerr",
       "traceback": [
        "An exception has occurred, use %tb to see the full traceback.\n",
        "\u001b[0;31mSystemExit\u001b[0m\n"
       ]
      },
      {
       "output_type": "stream",
       "stream": "stdout",
       "text": [
        "this is a sample text\n"
       ]
      },
      {
       "output_type": "stream",
       "stream": "stderr",
       "text": [
        "To exit: use 'exit', 'quit', or Ctrl-D."
       ]
      }
     ],
     "prompt_number": 6
    },
    {
     "cell_type": "heading",
     "level": 3,
     "metadata": {},
     "source": [
      "Program 16.3, Page number: 366"
     ]
    },
    {
     "cell_type": "code",
     "collapsed": false,
     "input": [
      "#16.3.py\n",
      "#Program to copy one file to another\n",
      "\n",
      "#Main()\n",
      "def main():\n",
      "\n",
      "        #Variable Declaration/ User Input\n",
      "        print(\"Enter name of the file to be copied: \")\n",
      "        inName=\"source.txt\"\n",
      "        #inName=raw_input()\n",
      "\n",
      "        print(\"Enter name of the output file: \")\n",
      "        outName=\"target.txt\"\n",
      "        #outName=raw_input()\n",
      "\n",
      "        \n",
      "#Try to open a file for reading\n",
      "        try:\n",
      "            inn=open(inName,\"r\")         \n",
      "        except:# Exception:\n",
      "                print(\"cant open {0} for reading\".format(inName))\n",
      "                sys.exit()\n",
      "\n",
      "#try to open a file for writing\n",
      "        try:\n",
      "               out=open(outName,\"w\") \n",
      "        except:# Exception:\n",
      "                print(\"cant open {0} for writing\".format(outName))\n",
      "                sys.exit()\n",
      "\n",
      "        string=inn.read()               #Read content from File-1\n",
      "        out.write(string)               #Write content to File-2\n",
      "\n",
      "#Close Files\n",
      "        inn.close()\n",
      "        out.close()\n",
      "\n",
      "        print(\"File has been copied.\\n\");\n",
      "\n",
      "#Setting top level conditional script\n",
      "if __name__=='__main__':\n",
      "        main()\n",
      "\n"
     ],
     "language": "python",
     "metadata": {},
     "outputs": [
      {
       "ename": "SystemExit",
       "evalue": "",
       "output_type": "pyerr",
       "traceback": [
        "An exception has occurred, use %tb to see the full traceback.\n",
        "\u001b[0;31mSystemExit\u001b[0m\n"
       ]
      },
      {
       "output_type": "stream",
       "stream": "stdout",
       "text": [
        "Enter name of the file to be copied: \n",
        "Enter name of the output file: \n",
        "cant open source.txt for reading\n"
       ]
      },
      {
       "output_type": "stream",
       "stream": "stderr",
       "text": [
        "To exit: use 'exit', 'quit', or Ctrl-D."
       ]
      }
     ],
     "prompt_number": 7
    }
   ],
   "metadata": {}
  }
 ]
}